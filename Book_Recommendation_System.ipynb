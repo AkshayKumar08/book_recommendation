{
  "nbformat": 4,
  "nbformat_minor": 0,
  "metadata": {
    "colab": {
      "name": "Book_Recommendation_System.ipynb",
      "provenance": [],
      "collapsed_sections": [
        "b-aTerFxZ6Ls",
        "AJ2nYW5aaq8D",
        "bIhlzFFsbB9I"
      ]
    },
    "kernelspec": {
      "name": "python3",
      "display_name": "Python 3"
    },
    "language_info": {
      "name": "python"
    }
  },
  "cells": [
    {
      "cell_type": "markdown",
      "metadata": {
        "id": "b-aTerFxZ6Ls"
      },
      "source": [
        "# Importing Modules"
      ]
    },
    {
      "cell_type": "code",
      "metadata": {
        "id": "r-NOcEnCXtlh"
      },
      "source": [
        "import numpy as np\n",
        "import pandas as pd"
      ],
      "execution_count": null,
      "outputs": []
    },
    {
      "cell_type": "code",
      "metadata": {
        "id": "xKNGXYIgY7a8"
      },
      "source": [
        "import matplotlib.pyplot as plt\n",
        "import seaborn as sns\n",
        "\n",
        "%matplotlib inline"
      ],
      "execution_count": null,
      "outputs": []
    },
    {
      "cell_type": "code",
      "metadata": {
        "colab": {
          "base_uri": "https://localhost:8080/",
          "height": 391
        },
        "id": "NGmVbdxoaPq6",
        "outputId": "37f862f9-df85-4052-af53-a3b8cb580f0a"
      },
      "source": [
        "# Load dataframe\n",
        "df = pd.read_csv('/content/drive/MyDrive/DATA/books_10K/books.csv',error_bad_lines= False)\n",
        "df.head()"
      ],
      "execution_count": null,
      "outputs": [
        {
          "output_type": "stream",
          "name": "stderr",
          "text": [
            "b'Skipping line 3350: expected 12 fields, saw 13\\nSkipping line 4704: expected 12 fields, saw 13\\nSkipping line 5879: expected 12 fields, saw 13\\nSkipping line 8981: expected 12 fields, saw 13\\n'\n"
          ]
        },
        {
          "output_type": "execute_result",
          "data": {
            "text/html": [
              "<div>\n",
              "<style scoped>\n",
              "    .dataframe tbody tr th:only-of-type {\n",
              "        vertical-align: middle;\n",
              "    }\n",
              "\n",
              "    .dataframe tbody tr th {\n",
              "        vertical-align: top;\n",
              "    }\n",
              "\n",
              "    .dataframe thead th {\n",
              "        text-align: right;\n",
              "    }\n",
              "</style>\n",
              "<table border=\"1\" class=\"dataframe\">\n",
              "  <thead>\n",
              "    <tr style=\"text-align: right;\">\n",
              "      <th></th>\n",
              "      <th>bookID</th>\n",
              "      <th>title</th>\n",
              "      <th>authors</th>\n",
              "      <th>average_rating</th>\n",
              "      <th>isbn</th>\n",
              "      <th>isbn13</th>\n",
              "      <th>language_code</th>\n",
              "      <th>num_pages</th>\n",
              "      <th>ratings_count</th>\n",
              "      <th>text_reviews_count</th>\n",
              "      <th>publication_date</th>\n",
              "      <th>publisher</th>\n",
              "    </tr>\n",
              "  </thead>\n",
              "  <tbody>\n",
              "    <tr>\n",
              "      <th>0</th>\n",
              "      <td>1</td>\n",
              "      <td>Harry Potter and the Half-Blood Prince (Harry ...</td>\n",
              "      <td>J.K. Rowling/Mary GrandPré</td>\n",
              "      <td>4.57</td>\n",
              "      <td>0439785960</td>\n",
              "      <td>9780439785969</td>\n",
              "      <td>eng</td>\n",
              "      <td>652</td>\n",
              "      <td>2095690</td>\n",
              "      <td>27591</td>\n",
              "      <td>9/16/2006</td>\n",
              "      <td>Scholastic Inc.</td>\n",
              "    </tr>\n",
              "    <tr>\n",
              "      <th>1</th>\n",
              "      <td>2</td>\n",
              "      <td>Harry Potter and the Order of the Phoenix (Har...</td>\n",
              "      <td>J.K. Rowling/Mary GrandPré</td>\n",
              "      <td>4.49</td>\n",
              "      <td>0439358078</td>\n",
              "      <td>9780439358071</td>\n",
              "      <td>eng</td>\n",
              "      <td>870</td>\n",
              "      <td>2153167</td>\n",
              "      <td>29221</td>\n",
              "      <td>9/1/2004</td>\n",
              "      <td>Scholastic Inc.</td>\n",
              "    </tr>\n",
              "    <tr>\n",
              "      <th>2</th>\n",
              "      <td>4</td>\n",
              "      <td>Harry Potter and the Chamber of Secrets (Harry...</td>\n",
              "      <td>J.K. Rowling</td>\n",
              "      <td>4.42</td>\n",
              "      <td>0439554896</td>\n",
              "      <td>9780439554893</td>\n",
              "      <td>eng</td>\n",
              "      <td>352</td>\n",
              "      <td>6333</td>\n",
              "      <td>244</td>\n",
              "      <td>11/1/2003</td>\n",
              "      <td>Scholastic</td>\n",
              "    </tr>\n",
              "    <tr>\n",
              "      <th>3</th>\n",
              "      <td>5</td>\n",
              "      <td>Harry Potter and the Prisoner of Azkaban (Harr...</td>\n",
              "      <td>J.K. Rowling/Mary GrandPré</td>\n",
              "      <td>4.56</td>\n",
              "      <td>043965548X</td>\n",
              "      <td>9780439655484</td>\n",
              "      <td>eng</td>\n",
              "      <td>435</td>\n",
              "      <td>2339585</td>\n",
              "      <td>36325</td>\n",
              "      <td>5/1/2004</td>\n",
              "      <td>Scholastic Inc.</td>\n",
              "    </tr>\n",
              "    <tr>\n",
              "      <th>4</th>\n",
              "      <td>8</td>\n",
              "      <td>Harry Potter Boxed Set  Books 1-5 (Harry Potte...</td>\n",
              "      <td>J.K. Rowling/Mary GrandPré</td>\n",
              "      <td>4.78</td>\n",
              "      <td>0439682584</td>\n",
              "      <td>9780439682589</td>\n",
              "      <td>eng</td>\n",
              "      <td>2690</td>\n",
              "      <td>41428</td>\n",
              "      <td>164</td>\n",
              "      <td>9/13/2004</td>\n",
              "      <td>Scholastic</td>\n",
              "    </tr>\n",
              "  </tbody>\n",
              "</table>\n",
              "</div>"
            ],
            "text/plain": [
              "   bookID  ...        publisher\n",
              "0       1  ...  Scholastic Inc.\n",
              "1       2  ...  Scholastic Inc.\n",
              "2       4  ...       Scholastic\n",
              "3       5  ...  Scholastic Inc.\n",
              "4       8  ...       Scholastic\n",
              "\n",
              "[5 rows x 12 columns]"
            ]
          },
          "metadata": {},
          "execution_count": 10
        }
      ]
    },
    {
      "cell_type": "code",
      "metadata": {
        "colab": {
          "base_uri": "https://localhost:8080/"
        },
        "id": "XiDyn9UZaav4",
        "outputId": "47493889-99aa-4ed4-b5c6-2dbd0fb14b9a"
      },
      "source": [
        "df.columns"
      ],
      "execution_count": null,
      "outputs": [
        {
          "output_type": "execute_result",
          "data": {
            "text/plain": [
              "Index(['bookID', 'title', 'authors', 'average_rating', 'isbn', 'isbn13',\n",
              "       'language_code', '  num_pages', 'ratings_count', 'text_reviews_count',\n",
              "       'publication_date', 'publisher'],\n",
              "      dtype='object')"
            ]
          },
          "metadata": {},
          "execution_count": 11
        }
      ]
    },
    {
      "cell_type": "code",
      "metadata": {
        "colab": {
          "base_uri": "https://localhost:8080/"
        },
        "id": "DhfszXT5afnD",
        "outputId": "4cf2ef3f-e346-4373-b2f1-34adb845f6d5"
      },
      "source": [
        "df.isnull().sum()"
      ],
      "execution_count": null,
      "outputs": [
        {
          "output_type": "execute_result",
          "data": {
            "text/plain": [
              "bookID                0\n",
              "title                 0\n",
              "authors               0\n",
              "average_rating        0\n",
              "isbn                  0\n",
              "isbn13                0\n",
              "language_code         0\n",
              "  num_pages           0\n",
              "ratings_count         0\n",
              "text_reviews_count    0\n",
              "publication_date      0\n",
              "publisher             0\n",
              "dtype: int64"
            ]
          },
          "metadata": {},
          "execution_count": 12
        }
      ]
    },
    {
      "cell_type": "code",
      "metadata": {
        "colab": {
          "base_uri": "https://localhost:8080/"
        },
        "id": "HmZHSfFlag6N",
        "outputId": "462a2a1c-ca7b-4b67-edaa-fa2bc5ad8cbb"
      },
      "source": [
        "df.info()"
      ],
      "execution_count": null,
      "outputs": [
        {
          "output_type": "stream",
          "name": "stdout",
          "text": [
            "<class 'pandas.core.frame.DataFrame'>\n",
            "RangeIndex: 11123 entries, 0 to 11122\n",
            "Data columns (total 12 columns):\n",
            " #   Column              Non-Null Count  Dtype  \n",
            "---  ------              --------------  -----  \n",
            " 0   bookID              11123 non-null  int64  \n",
            " 1   title               11123 non-null  object \n",
            " 2   authors             11123 non-null  object \n",
            " 3   average_rating      11123 non-null  float64\n",
            " 4   isbn                11123 non-null  object \n",
            " 5   isbn13              11123 non-null  int64  \n",
            " 6   language_code       11123 non-null  object \n",
            " 7     num_pages         11123 non-null  int64  \n",
            " 8   ratings_count       11123 non-null  int64  \n",
            " 9   text_reviews_count  11123 non-null  int64  \n",
            " 10  publication_date    11123 non-null  object \n",
            " 11  publisher           11123 non-null  object \n",
            "dtypes: float64(1), int64(5), object(6)\n",
            "memory usage: 1.0+ MB\n"
          ]
        }
      ]
    },
    {
      "cell_type": "code",
      "metadata": {
        "colab": {
          "base_uri": "https://localhost:8080/",
          "height": 295
        },
        "id": "Z1WM1nhGaiQR",
        "outputId": "85a60f3f-b180-4ad6-fd75-983464ac58b2"
      },
      "source": [
        "df.describe()"
      ],
      "execution_count": null,
      "outputs": [
        {
          "output_type": "execute_result",
          "data": {
            "text/html": [
              "<div>\n",
              "<style scoped>\n",
              "    .dataframe tbody tr th:only-of-type {\n",
              "        vertical-align: middle;\n",
              "    }\n",
              "\n",
              "    .dataframe tbody tr th {\n",
              "        vertical-align: top;\n",
              "    }\n",
              "\n",
              "    .dataframe thead th {\n",
              "        text-align: right;\n",
              "    }\n",
              "</style>\n",
              "<table border=\"1\" class=\"dataframe\">\n",
              "  <thead>\n",
              "    <tr style=\"text-align: right;\">\n",
              "      <th></th>\n",
              "      <th>bookID</th>\n",
              "      <th>average_rating</th>\n",
              "      <th>isbn13</th>\n",
              "      <th>num_pages</th>\n",
              "      <th>ratings_count</th>\n",
              "      <th>text_reviews_count</th>\n",
              "    </tr>\n",
              "  </thead>\n",
              "  <tbody>\n",
              "    <tr>\n",
              "      <th>count</th>\n",
              "      <td>11123.000000</td>\n",
              "      <td>11123.000000</td>\n",
              "      <td>1.112300e+04</td>\n",
              "      <td>11123.000000</td>\n",
              "      <td>1.112300e+04</td>\n",
              "      <td>11123.000000</td>\n",
              "    </tr>\n",
              "    <tr>\n",
              "      <th>mean</th>\n",
              "      <td>21310.856963</td>\n",
              "      <td>3.934075</td>\n",
              "      <td>9.759880e+12</td>\n",
              "      <td>336.405556</td>\n",
              "      <td>1.794285e+04</td>\n",
              "      <td>542.048099</td>\n",
              "    </tr>\n",
              "    <tr>\n",
              "      <th>std</th>\n",
              "      <td>13094.727252</td>\n",
              "      <td>0.350485</td>\n",
              "      <td>4.429758e+11</td>\n",
              "      <td>241.152626</td>\n",
              "      <td>1.124992e+05</td>\n",
              "      <td>2576.619589</td>\n",
              "    </tr>\n",
              "    <tr>\n",
              "      <th>min</th>\n",
              "      <td>1.000000</td>\n",
              "      <td>0.000000</td>\n",
              "      <td>8.987060e+09</td>\n",
              "      <td>0.000000</td>\n",
              "      <td>0.000000e+00</td>\n",
              "      <td>0.000000</td>\n",
              "    </tr>\n",
              "    <tr>\n",
              "      <th>25%</th>\n",
              "      <td>10277.500000</td>\n",
              "      <td>3.770000</td>\n",
              "      <td>9.780345e+12</td>\n",
              "      <td>192.000000</td>\n",
              "      <td>1.040000e+02</td>\n",
              "      <td>9.000000</td>\n",
              "    </tr>\n",
              "    <tr>\n",
              "      <th>50%</th>\n",
              "      <td>20287.000000</td>\n",
              "      <td>3.960000</td>\n",
              "      <td>9.780582e+12</td>\n",
              "      <td>299.000000</td>\n",
              "      <td>7.450000e+02</td>\n",
              "      <td>47.000000</td>\n",
              "    </tr>\n",
              "    <tr>\n",
              "      <th>75%</th>\n",
              "      <td>32104.500000</td>\n",
              "      <td>4.140000</td>\n",
              "      <td>9.780872e+12</td>\n",
              "      <td>416.000000</td>\n",
              "      <td>5.000500e+03</td>\n",
              "      <td>238.000000</td>\n",
              "    </tr>\n",
              "    <tr>\n",
              "      <th>max</th>\n",
              "      <td>45641.000000</td>\n",
              "      <td>5.000000</td>\n",
              "      <td>9.790008e+12</td>\n",
              "      <td>6576.000000</td>\n",
              "      <td>4.597666e+06</td>\n",
              "      <td>94265.000000</td>\n",
              "    </tr>\n",
              "  </tbody>\n",
              "</table>\n",
              "</div>"
            ],
            "text/plain": [
              "             bookID  average_rating  ...  ratings_count  text_reviews_count\n",
              "count  11123.000000    11123.000000  ...   1.112300e+04        11123.000000\n",
              "mean   21310.856963        3.934075  ...   1.794285e+04          542.048099\n",
              "std    13094.727252        0.350485  ...   1.124992e+05         2576.619589\n",
              "min        1.000000        0.000000  ...   0.000000e+00            0.000000\n",
              "25%    10277.500000        3.770000  ...   1.040000e+02            9.000000\n",
              "50%    20287.000000        3.960000  ...   7.450000e+02           47.000000\n",
              "75%    32104.500000        4.140000  ...   5.000500e+03          238.000000\n",
              "max    45641.000000        5.000000  ...   4.597666e+06        94265.000000\n",
              "\n",
              "[8 rows x 6 columns]"
            ]
          },
          "metadata": {},
          "execution_count": 14
        }
      ]
    },
    {
      "cell_type": "markdown",
      "metadata": {
        "id": "AJ2nYW5aaq8D"
      },
      "source": [
        "# Visualization"
      ]
    },
    {
      "cell_type": "code",
      "metadata": {
        "colab": {
          "base_uri": "https://localhost:8080/"
        },
        "id": "yqdcmSilatyx",
        "outputId": "74c1ff72-aba6-4fda-d2dd-cebc37f1caf2"
      },
      "source": [
        "top_fifteen = df[df['ratings_count'] > 1000000]\n",
        "top_fifteen.sort_values(by='average_rating', ascending=False)\n",
        "top_fifteen.head(15)"
      ],
      "execution_count": null,
      "outputs": [
        {
          "output_type": "execute_result",
          "data": {
            "text/html": [
              "<div>\n",
              "<style scoped>\n",
              "    .dataframe tbody tr th:only-of-type {\n",
              "        vertical-align: middle;\n",
              "    }\n",
              "\n",
              "    .dataframe tbody tr th {\n",
              "        vertical-align: top;\n",
              "    }\n",
              "\n",
              "    .dataframe thead th {\n",
              "        text-align: right;\n",
              "    }\n",
              "</style>\n",
              "<table border=\"1\" class=\"dataframe\">\n",
              "  <thead>\n",
              "    <tr style=\"text-align: right;\">\n",
              "      <th></th>\n",
              "      <th>bookID</th>\n",
              "      <th>title</th>\n",
              "      <th>authors</th>\n",
              "      <th>average_rating</th>\n",
              "      <th>isbn</th>\n",
              "      <th>isbn13</th>\n",
              "      <th>language_code</th>\n",
              "      <th>num_pages</th>\n",
              "      <th>ratings_count</th>\n",
              "      <th>text_reviews_count</th>\n",
              "      <th>publication_date</th>\n",
              "      <th>publisher</th>\n",
              "    </tr>\n",
              "  </thead>\n",
              "  <tbody>\n",
              "    <tr>\n",
              "      <th>0</th>\n",
              "      <td>1</td>\n",
              "      <td>Harry Potter and the Half-Blood Prince (Harry ...</td>\n",
              "      <td>J.K. Rowling/Mary GrandPré</td>\n",
              "      <td>4.57</td>\n",
              "      <td>0439785960</td>\n",
              "      <td>9780439785969</td>\n",
              "      <td>eng</td>\n",
              "      <td>652</td>\n",
              "      <td>2095690</td>\n",
              "      <td>27591</td>\n",
              "      <td>9/16/2006</td>\n",
              "      <td>Scholastic Inc.</td>\n",
              "    </tr>\n",
              "    <tr>\n",
              "      <th>1</th>\n",
              "      <td>2</td>\n",
              "      <td>Harry Potter and the Order of the Phoenix (Har...</td>\n",
              "      <td>J.K. Rowling/Mary GrandPré</td>\n",
              "      <td>4.49</td>\n",
              "      <td>0439358078</td>\n",
              "      <td>9780439358071</td>\n",
              "      <td>eng</td>\n",
              "      <td>870</td>\n",
              "      <td>2153167</td>\n",
              "      <td>29221</td>\n",
              "      <td>9/1/2004</td>\n",
              "      <td>Scholastic Inc.</td>\n",
              "    </tr>\n",
              "    <tr>\n",
              "      <th>3</th>\n",
              "      <td>5</td>\n",
              "      <td>Harry Potter and the Prisoner of Azkaban (Harr...</td>\n",
              "      <td>J.K. Rowling/Mary GrandPré</td>\n",
              "      <td>4.56</td>\n",
              "      <td>043965548X</td>\n",
              "      <td>9780439655484</td>\n",
              "      <td>eng</td>\n",
              "      <td>435</td>\n",
              "      <td>2339585</td>\n",
              "      <td>36325</td>\n",
              "      <td>5/1/2004</td>\n",
              "      <td>Scholastic Inc.</td>\n",
              "    </tr>\n",
              "    <tr>\n",
              "      <th>23</th>\n",
              "      <td>34</td>\n",
              "      <td>The Fellowship of the Ring (The Lord of the Ri...</td>\n",
              "      <td>J.R.R. Tolkien</td>\n",
              "      <td>4.36</td>\n",
              "      <td>0618346252</td>\n",
              "      <td>9780618346257</td>\n",
              "      <td>eng</td>\n",
              "      <td>398</td>\n",
              "      <td>2128944</td>\n",
              "      <td>13670</td>\n",
              "      <td>9/5/2003</td>\n",
              "      <td>Houghton Mifflin Harcourt</td>\n",
              "    </tr>\n",
              "    <tr>\n",
              "      <th>284</th>\n",
              "      <td>865</td>\n",
              "      <td>The Alchemist</td>\n",
              "      <td>Paulo Coelho/Alan R. Clarke/Özdemir İnce</td>\n",
              "      <td>3.86</td>\n",
              "      <td>0061122416</td>\n",
              "      <td>9780061122415</td>\n",
              "      <td>eng</td>\n",
              "      <td>197</td>\n",
              "      <td>1631221</td>\n",
              "      <td>55843</td>\n",
              "      <td>5/1/1993</td>\n",
              "      <td>HarperCollins</td>\n",
              "    </tr>\n",
              "    <tr>\n",
              "      <th>294</th>\n",
              "      <td>890</td>\n",
              "      <td>Of Mice and Men</td>\n",
              "      <td>John Steinbeck</td>\n",
              "      <td>3.87</td>\n",
              "      <td>0142000671</td>\n",
              "      <td>9780142000670</td>\n",
              "      <td>eng</td>\n",
              "      <td>103</td>\n",
              "      <td>1755253</td>\n",
              "      <td>25554</td>\n",
              "      <td>1/8/2002</td>\n",
              "      <td>Penguin Books</td>\n",
              "    </tr>\n",
              "    <tr>\n",
              "      <th>299</th>\n",
              "      <td>930</td>\n",
              "      <td>Memoirs of a Geisha</td>\n",
              "      <td>Arthur Golden</td>\n",
              "      <td>4.11</td>\n",
              "      <td>0739326228</td>\n",
              "      <td>9780739326220</td>\n",
              "      <td>eng</td>\n",
              "      <td>434</td>\n",
              "      <td>1301083</td>\n",
              "      <td>19296</td>\n",
              "      <td>11/15/2005</td>\n",
              "      <td>Random House Large Print Publishing</td>\n",
              "    </tr>\n",
              "    <tr>\n",
              "      <th>307</th>\n",
              "      <td>960</td>\n",
              "      <td>Angels &amp; Demons (Robert Langdon  #1)</td>\n",
              "      <td>Dan Brown</td>\n",
              "      <td>3.89</td>\n",
              "      <td>1416524797</td>\n",
              "      <td>9781416524793</td>\n",
              "      <td>eng</td>\n",
              "      <td>736</td>\n",
              "      <td>2418736</td>\n",
              "      <td>21303</td>\n",
              "      <td>4/1/2006</td>\n",
              "      <td>Pocket Books</td>\n",
              "    </tr>\n",
              "    <tr>\n",
              "      <th>310</th>\n",
              "      <td>968</td>\n",
              "      <td>The Da Vinci Code (Robert Langdon  #2)</td>\n",
              "      <td>Dan Brown</td>\n",
              "      <td>3.84</td>\n",
              "      <td>0307277674</td>\n",
              "      <td>9780307277671</td>\n",
              "      <td>eng</td>\n",
              "      <td>489</td>\n",
              "      <td>1679706</td>\n",
              "      <td>35877</td>\n",
              "      <td>3/28/2006</td>\n",
              "      <td>Anchor</td>\n",
              "    </tr>\n",
              "    <tr>\n",
              "      <th>514</th>\n",
              "      <td>1618</td>\n",
              "      <td>The Curious Incident of the Dog in the Night-Time</td>\n",
              "      <td>Mark Haddon</td>\n",
              "      <td>3.88</td>\n",
              "      <td>1400032717</td>\n",
              "      <td>9781400032716</td>\n",
              "      <td>eng</td>\n",
              "      <td>226</td>\n",
              "      <td>1054308</td>\n",
              "      <td>35537</td>\n",
              "      <td>5/18/2004</td>\n",
              "      <td>Vintage</td>\n",
              "    </tr>\n",
              "    <tr>\n",
              "      <th>591</th>\n",
              "      <td>1934</td>\n",
              "      <td>Little Women</td>\n",
              "      <td>Louisa May Alcott</td>\n",
              "      <td>4.07</td>\n",
              "      <td>0451529308</td>\n",
              "      <td>9780451529305</td>\n",
              "      <td>eng</td>\n",
              "      <td>449</td>\n",
              "      <td>1479727</td>\n",
              "      <td>18458</td>\n",
              "      <td>4/6/2004</td>\n",
              "      <td>Signet Classics</td>\n",
              "    </tr>\n",
              "    <tr>\n",
              "      <th>898</th>\n",
              "      <td>2956</td>\n",
              "      <td>The Adventures of Huckleberry Finn (Adventures...</td>\n",
              "      <td>Mark Twain/Guy Cardwell/John Seelye/Walter Trier</td>\n",
              "      <td>3.82</td>\n",
              "      <td>0142437174</td>\n",
              "      <td>9780142437179</td>\n",
              "      <td>eng</td>\n",
              "      <td>327</td>\n",
              "      <td>1049912</td>\n",
              "      <td>11391</td>\n",
              "      <td>12/31/2002</td>\n",
              "      <td>Penguin Classics</td>\n",
              "    </tr>\n",
              "    <tr>\n",
              "      <th>1069</th>\n",
              "      <td>3636</td>\n",
              "      <td>The Giver (The Giver  #1)</td>\n",
              "      <td>Lois Lowry</td>\n",
              "      <td>4.13</td>\n",
              "      <td>0385732554</td>\n",
              "      <td>9780385732550</td>\n",
              "      <td>eng</td>\n",
              "      <td>208</td>\n",
              "      <td>1585589</td>\n",
              "      <td>56604</td>\n",
              "      <td>1/24/2006</td>\n",
              "      <td>Ember</td>\n",
              "    </tr>\n",
              "    <tr>\n",
              "      <th>1430</th>\n",
              "      <td>4981</td>\n",
              "      <td>Slaughterhouse-Five</td>\n",
              "      <td>Kurt Vonnegut Jr.</td>\n",
              "      <td>4.07</td>\n",
              "      <td>0385333846</td>\n",
              "      <td>9780385333849</td>\n",
              "      <td>eng</td>\n",
              "      <td>275</td>\n",
              "      <td>1001671</td>\n",
              "      <td>19056</td>\n",
              "      <td>1/12/1999</td>\n",
              "      <td>Dial Press</td>\n",
              "    </tr>\n",
              "    <tr>\n",
              "      <th>1462</th>\n",
              "      <td>5107</td>\n",
              "      <td>The Catcher in the Rye</td>\n",
              "      <td>J.D. Salinger</td>\n",
              "      <td>3.80</td>\n",
              "      <td>0316769177</td>\n",
              "      <td>9780316769174</td>\n",
              "      <td>eng</td>\n",
              "      <td>277</td>\n",
              "      <td>2457092</td>\n",
              "      <td>43499</td>\n",
              "      <td>1/30/2001</td>\n",
              "      <td>Back Bay Books</td>\n",
              "    </tr>\n",
              "  </tbody>\n",
              "</table>\n",
              "</div>"
            ],
            "text/plain": [
              "      bookID  ...                            publisher\n",
              "0          1  ...                      Scholastic Inc.\n",
              "1          2  ...                      Scholastic Inc.\n",
              "3          5  ...                      Scholastic Inc.\n",
              "23        34  ...            Houghton Mifflin Harcourt\n",
              "284      865  ...                        HarperCollins\n",
              "294      890  ...                        Penguin Books\n",
              "299      930  ...  Random House Large Print Publishing\n",
              "307      960  ...                         Pocket Books\n",
              "310      968  ...                               Anchor\n",
              "514     1618  ...                              Vintage\n",
              "591     1934  ...                      Signet Classics\n",
              "898     2956  ...                     Penguin Classics\n",
              "1069    3636  ...                                Ember\n",
              "1430    4981  ...                           Dial Press\n",
              "1462    5107  ...                       Back Bay Books\n",
              "\n",
              "[15 rows x 12 columns]"
            ]
          },
          "metadata": {},
          "execution_count": 15
        }
      ]
    },
    {
      "cell_type": "code",
      "metadata": {
        "colab": {
          "base_uri": "https://localhost:8080/"
        },
        "id": "chDAfRM6auhU",
        "outputId": "161aa7dc-526e-4293-bf39-650158762f1c"
      },
      "source": [
        "plt.style.use('seaborn-whitegrid')\n",
        "plt.figure(figsize=(10, 10))\n",
        "\n",
        "data = top_fifteen.sort_values(by='average_rating', ascending=False).head(15)\n",
        "gr = sns.barplot(x=\"average_rating\", y=\"title\", data=data, palette=\"CMRmap_r\")\n",
        "\n",
        "for i in gr.patches:\n",
        "    gr.text(i.get_width() + .05, i.get_y() + 0.5, str(i.get_width()), fontsize = 10, color = 'k')\n",
        "plt.show()"
      ],
      "execution_count": null,
      "outputs": [
        {
          "output_type": "display_data",
          "data": {
            "image/png": "[encoded data removed]",
            "text/plain": [
              "<Figure size 720x720 with 1 Axes>"
            ]
          },
          "metadata": {}
        }
      ]
    },
    {
      "cell_type": "code",
      "metadata": {
        "colab": {
          "base_uri": "https://localhost:8080/"
        },
        "id": "p5mrgRtZa0AY",
        "outputId": "c4d116c3-480c-40bd-d46a-a7b725eeaac7"
      },
      "source": [
        "top_15_authors = df.groupby('authors')['title'].count().reset_index().sort_values('title', ascending=False).head(15).set_index('authors')\n",
        "top_15_authors.head(15)"
      ],
      "execution_count": null,
      "outputs": [
        {
          "output_type": "execute_result",
          "data": {
            "text/html": [
              "<div>\n",
              "<style scoped>\n",
              "    .dataframe tbody tr th:only-of-type {\n",
              "        vertical-align: middle;\n",
              "    }\n",
              "\n",
              "    .dataframe tbody tr th {\n",
              "        vertical-align: top;\n",
              "    }\n",
              "\n",
              "    .dataframe thead th {\n",
              "        text-align: right;\n",
              "    }\n",
              "</style>\n",
              "<table border=\"1\" class=\"dataframe\">\n",
              "  <thead>\n",
              "    <tr style=\"text-align: right;\">\n",
              "      <th></th>\n",
              "      <th>title</th>\n",
              "    </tr>\n",
              "    <tr>\n",
              "      <th>authors</th>\n",
              "      <th></th>\n",
              "    </tr>\n",
              "  </thead>\n",
              "  <tbody>\n",
              "    <tr>\n",
              "      <th>Stephen King</th>\n",
              "      <td>40</td>\n",
              "    </tr>\n",
              "    <tr>\n",
              "      <th>P.G. Wodehouse</th>\n",
              "      <td>40</td>\n",
              "    </tr>\n",
              "    <tr>\n",
              "      <th>Rumiko Takahashi</th>\n",
              "      <td>39</td>\n",
              "    </tr>\n",
              "    <tr>\n",
              "      <th>Orson Scott Card</th>\n",
              "      <td>35</td>\n",
              "    </tr>\n",
              "    <tr>\n",
              "      <th>Agatha Christie</th>\n",
              "      <td>33</td>\n",
              "    </tr>\n",
              "    <tr>\n",
              "      <th>Piers Anthony</th>\n",
              "      <td>30</td>\n",
              "    </tr>\n",
              "    <tr>\n",
              "      <th>Mercedes Lackey</th>\n",
              "      <td>29</td>\n",
              "    </tr>\n",
              "    <tr>\n",
              "      <th>Sandra Brown</th>\n",
              "      <td>29</td>\n",
              "    </tr>\n",
              "    <tr>\n",
              "      <th>Dick Francis</th>\n",
              "      <td>28</td>\n",
              "    </tr>\n",
              "    <tr>\n",
              "      <th>Laurell K. Hamilton</th>\n",
              "      <td>23</td>\n",
              "    </tr>\n",
              "    <tr>\n",
              "      <th>Terry Pratchett</th>\n",
              "      <td>23</td>\n",
              "    </tr>\n",
              "    <tr>\n",
              "      <th>Margaret Weis/Tracy Hickman</th>\n",
              "      <td>23</td>\n",
              "    </tr>\n",
              "    <tr>\n",
              "      <th>James Patterson</th>\n",
              "      <td>23</td>\n",
              "    </tr>\n",
              "    <tr>\n",
              "      <th>Gordon Korman</th>\n",
              "      <td>22</td>\n",
              "    </tr>\n",
              "    <tr>\n",
              "      <th>Dan Simmons</th>\n",
              "      <td>21</td>\n",
              "    </tr>\n",
              "  </tbody>\n",
              "</table>\n",
              "</div>"
            ],
            "text/plain": [
              "                             title\n",
              "authors                           \n",
              "Stephen King                    40\n",
              "P.G. Wodehouse                  40\n",
              "Rumiko Takahashi                39\n",
              "Orson Scott Card                35\n",
              "Agatha Christie                 33\n",
              "Piers Anthony                   30\n",
              "Mercedes Lackey                 29\n",
              "Sandra Brown                    29\n",
              "Dick Francis                    28\n",
              "Laurell K. Hamilton             23\n",
              "Terry Pratchett                 23\n",
              "Margaret Weis/Tracy Hickman     23\n",
              "James Patterson                 23\n",
              "Gordon Korman                   22\n",
              "Dan Simmons                     21"
            ]
          },
          "metadata": {},
          "execution_count": 17
        }
      ]
    },
    {
      "cell_type": "code",
      "metadata": {
        "colab": {
          "base_uri": "https://localhost:8080/"
        },
        "id": "hVVx74oGa1T2",
        "outputId": "eaddfb5e-d63c-42ce-e295-0f2617047901"
      },
      "source": [
        "plt.figure(figsize=(15,10))\n",
        "ax = sns.barplot(top_15_authors['title'], top_15_authors.index, palette='CMRmap_r')\n",
        "\n",
        "ax.set_title(\"Top 10 authors with most books\")\n",
        "ax.set_xlabel(\"Total number of books\")\n",
        "totals = []\n",
        "for i in ax.patches:\n",
        "    totals.append(i.get_width())\n",
        "total = sum(totals)\n",
        "for i in ax.patches:\n",
        "    ax.text(i.get_width()+.2, i.get_y()+.2,str(round(i.get_width())), fontsize=15,color='black')\n",
        "plt.show()"
      ],
      "execution_count": null,
      "outputs": [
        {
          "output_type": "stream",
          "name": "stderr",
          "text": [
            "/usr/local/lib/python3.7/dist-packages/seaborn/_decorators.py:43: FutureWarning: Pass the following variables as keyword args: x, y. From version 0.12, the only valid positional argument will be `data`, and passing other arguments without an explicit keyword will result in an error or misinterpretation.\n",
            "  FutureWarning\n"
          ]
        },
        {
          "output_type": "display_data",
          "data": {
            "image/png": "[encoded data removed]",
            "text/plain": [
              "<Figure size 1080x720 with 1 Axes>"
            ]
          },
          "metadata": {}
        }
      ]
    },
    {
      "cell_type": "code",
      "metadata": {
        "colab": {
          "base_uri": "https://localhost:8080/"
        },
        "id": "uqyIYEMWa25o",
        "outputId": "24cc9608-8614-40b6-ba90-d58a30804b9b"
      },
      "source": [
        "ax = sns.relplot(data=df,\n",
        "                 x=\"ratings_count\",\n",
        "                 y=\"average_rating\",\n",
        "                 color = '#95a3c3',\n",
        "                 sizes=(400, 600), \n",
        "                 height=7, \n",
        "                 marker='o')"
      ],
      "execution_count": null,
      "outputs": [
        {
          "output_type": "display_data",
          "data": {
            "image/png": "[encoded data removed]",
            "text/plain": [
              "<Figure size 504x504 with 1 Axes>"
            ]
          },
          "metadata": {}
        }
      ]
    },
    {
      "cell_type": "code",
      "metadata": {
        "colab": {
          "base_uri": "https://localhost:8080/"
        },
        "id": "4iONGqhga4Xw",
        "outputId": "2e43054b-6836-47c5-dce1-03fb4711013b"
      },
      "source": [
        "plt.figure(figsize=(15, 7))\n",
        "ax = sns.countplot(x=df.language_code, data=df)\n",
        "for p in ax.patches:\n",
        "    ax.annotate(str(p.get_height()), (p.get_x()-0.05, p.get_height()+100))"
      ],
      "execution_count": null,
      "outputs": [
        {
          "output_type": "display_data",
          "data": {
            "image/png": "[encoded data removed]",
            "text/plain": [
              "<Figure size 1080x504 with 1 Axes>"
            ]
          },
          "metadata": {}
        }
      ]
    },
    {
      "cell_type": "code",
      "metadata": {
        "colab": {
          "base_uri": "https://localhost:8080/"
        },
        "id": "yJMViYwJa52b",
        "outputId": "a61fe278-c635-493d-f3cd-255d3e52cb75"
      },
      "source": [
        "top_15_publisher = df.groupby('publisher')['title'].count().reset_index().sort_values('title', ascending=False).head(15).set_index('publisher')\n",
        "top_15_publisher.head(15)"
      ],
      "execution_count": null,
      "outputs": [
        {
          "output_type": "execute_result",
          "data": {
            "text/html": [
              "<div>\n",
              "<style scoped>\n",
              "    .dataframe tbody tr th:only-of-type {\n",
              "        vertical-align: middle;\n",
              "    }\n",
              "\n",
              "    .dataframe tbody tr th {\n",
              "        vertical-align: top;\n",
              "    }\n",
              "\n",
              "    .dataframe thead th {\n",
              "        text-align: right;\n",
              "    }\n",
              "</style>\n",
              "<table border=\"1\" class=\"dataframe\">\n",
              "  <thead>\n",
              "    <tr style=\"text-align: right;\">\n",
              "      <th></th>\n",
              "      <th>title</th>\n",
              "    </tr>\n",
              "    <tr>\n",
              "      <th>publisher</th>\n",
              "      <th></th>\n",
              "    </tr>\n",
              "  </thead>\n",
              "  <tbody>\n",
              "    <tr>\n",
              "      <th>Vintage</th>\n",
              "      <td>318</td>\n",
              "    </tr>\n",
              "    <tr>\n",
              "      <th>Penguin Books</th>\n",
              "      <td>261</td>\n",
              "    </tr>\n",
              "    <tr>\n",
              "      <th>Penguin Classics</th>\n",
              "      <td>184</td>\n",
              "    </tr>\n",
              "    <tr>\n",
              "      <th>Mariner Books</th>\n",
              "      <td>150</td>\n",
              "    </tr>\n",
              "    <tr>\n",
              "      <th>Ballantine Books</th>\n",
              "      <td>144</td>\n",
              "    </tr>\n",
              "    <tr>\n",
              "      <th>HarperCollins</th>\n",
              "      <td>112</td>\n",
              "    </tr>\n",
              "    <tr>\n",
              "      <th>Harper Perennial</th>\n",
              "      <td>112</td>\n",
              "    </tr>\n",
              "    <tr>\n",
              "      <th>Pocket Books</th>\n",
              "      <td>111</td>\n",
              "    </tr>\n",
              "    <tr>\n",
              "      <th>Bantam</th>\n",
              "      <td>110</td>\n",
              "    </tr>\n",
              "    <tr>\n",
              "      <th>VIZ Media LLC</th>\n",
              "      <td>88</td>\n",
              "    </tr>\n",
              "    <tr>\n",
              "      <th>Berkley</th>\n",
              "      <td>86</td>\n",
              "    </tr>\n",
              "    <tr>\n",
              "      <th>Dover Publications</th>\n",
              "      <td>85</td>\n",
              "    </tr>\n",
              "    <tr>\n",
              "      <th>Modern Library</th>\n",
              "      <td>82</td>\n",
              "    </tr>\n",
              "    <tr>\n",
              "      <th>Del Rey</th>\n",
              "      <td>80</td>\n",
              "    </tr>\n",
              "    <tr>\n",
              "      <th>Grand Central Publishing</th>\n",
              "      <td>76</td>\n",
              "    </tr>\n",
              "  </tbody>\n",
              "</table>\n",
              "</div>"
            ],
            "text/plain": [
              "                          title\n",
              "publisher                      \n",
              "Vintage                     318\n",
              "Penguin Books               261\n",
              "Penguin Classics            184\n",
              "Mariner Books               150\n",
              "Ballantine Books            144\n",
              "HarperCollins               112\n",
              "Harper Perennial            112\n",
              "Pocket Books                111\n",
              "Bantam                      110\n",
              "VIZ Media LLC                88\n",
              "Berkley                      86\n",
              "Dover Publications           85\n",
              "Modern Library               82\n",
              "Del Rey                      80\n",
              "Grand Central Publishing     76"
            ]
          },
          "metadata": {},
          "execution_count": 21
        }
      ]
    },
    {
      "cell_type": "code",
      "metadata": {
        "colab": {
          "base_uri": "https://localhost:8080/"
        },
        "id": "0wK_bvqua7J4",
        "outputId": "fea0a599-e96a-4f10-8aaf-fc95dd335196"
      },
      "source": [
        "plt.figure(figsize=(15,10))\n",
        "ax = sns.barplot(top_15_publisher['title'], top_15_publisher.index, palette='CMRmap_r')\n",
        "\n",
        "ax.set_title(\"Top 15 publisher with most books\")\n",
        "ax.set_xlabel(\"Total number of books\")\n",
        "totals = []\n",
        "for i in ax.patches:\n",
        "    totals.append(i.get_width())\n",
        "total = sum(totals)\n",
        "for i in ax.patches:\n",
        "    ax.text(i.get_width()+.2, i.get_y()+.2,str(round(i.get_width())), fontsize=15,color='black')\n",
        "plt.show()"
      ],
      "execution_count": null,
      "outputs": [
        {
          "output_type": "stream",
          "name": "stderr",
          "text": [
            "/usr/local/lib/python3.7/dist-packages/seaborn/_decorators.py:43: FutureWarning: Pass the following variables as keyword args: x, y. From version 0.12, the only valid positional argument will be `data`, and passing other arguments without an explicit keyword will result in an error or misinterpretation.\n",
            "  FutureWarning\n"
          ]
        },
        {
          "output_type": "display_data",
          "data": {
            "image/png": "[encoded data removed]",
            "text/plain": [
              "<Figure size 1080x720 with 1 Axes>"
            ]
          },
          "metadata": {}
        }
      ]
    },
    {
      "cell_type": "code",
      "metadata": {
        "colab": {
          "base_uri": "https://localhost:8080/"
        },
        "id": "LflS0tyra81q",
        "outputId": "2cd78798-a538-4990-9e06-734d139d379c"
      },
      "source": [
        "df.average_rating = df.average_rating.astype(float)\n",
        "fig, ax = plt.subplots(figsize=[15,10])\n",
        "sns.distplot(df['average_rating'],ax=ax)\n",
        "ax.set_title('Average rating distribution for all books',fontsize=20)\n",
        "ax.set_xlabel('Average rating',fontsize=13)"
      ],
      "execution_count": null,
      "outputs": [
        {
          "output_type": "stream",
          "name": "stderr",
          "text": [
            "/usr/local/lib/python3.7/dist-packages/seaborn/distributions.py:2619: FutureWarning: `distplot` is a deprecated function and will be removed in a future version. Please adapt your code to use either `displot` (a figure-level function with similar flexibility) or `histplot` (an axes-level function for histograms).\n",
            "  warnings.warn(msg, FutureWarning)\n"
          ]
        },
        {
          "output_type": "execute_result",
          "data": {
            "text/plain": [
              "Text(0.5, 0, 'Average rating')"
            ]
          },
          "metadata": {},
          "execution_count": 23
        },
        {
          "output_type": "display_data",
          "data": {
            "image/png": "[encoded data removed]",
            "text/plain": [
              "<Figure size 1080x720 with 1 Axes>"
            ]
          },
          "metadata": {}
        }
      ]
    },
    {
      "cell_type": "code",
      "metadata": {
        "id": "0tmdhznwa-lH"
      },
      "source": [
        ""
      ],
      "execution_count": null,
      "outputs": []
    },
    {
      "cell_type": "markdown",
      "metadata": {
        "id": "bIhlzFFsbB9I"
      },
      "source": [
        "# Feature Engineering"
      ]
    },
    {
      "cell_type": "code",
      "metadata": {
        "colab": {
          "base_uri": "https://localhost:8080/"
        },
        "id": "RpyZG23-bDVu",
        "outputId": "c999b349-39a8-49b5-999d-3b93340cd727"
      },
      "source": [
        "df.columns"
      ],
      "execution_count": null,
      "outputs": [
        {
          "output_type": "execute_result",
          "data": {
            "text/plain": [
              "Index(['bookID', 'title', 'authors', 'average_rating', 'isbn', 'isbn13',\n",
              "       'language_code', '  num_pages', 'ratings_count', 'text_reviews_count',\n",
              "       'publication_date', 'publisher'],\n",
              "      dtype='object')"
            ]
          },
          "metadata": {},
          "execution_count": 24
        }
      ]
    },
    {
      "cell_type": "code",
      "metadata": {
        "id": "SKZ8dduIbGKV"
      },
      "source": [
        "threshold = 0.7\n",
        "df = df[df.columns[df.isnull().mean() < threshold]]\n",
        "df = df.loc[df.isnull().mean(axis=1) < threshold]"
      ],
      "execution_count": null,
      "outputs": []
    },
    {
      "cell_type": "code",
      "metadata": {
        "colab": {
          "base_uri": "https://localhost:8080/"
        },
        "id": "zAa6UoY7bJka",
        "outputId": "57ae04a7-d0aa-454a-ba8a-18f87055ff37"
      },
      "source": [
        "df.head()"
      ],
      "execution_count": null,
      "outputs": [
        {
          "output_type": "execute_result",
          "data": {
            "text/html": [
              "<div>\n",
              "<style scoped>\n",
              "    .dataframe tbody tr th:only-of-type {\n",
              "        vertical-align: middle;\n",
              "    }\n",
              "\n",
              "    .dataframe tbody tr th {\n",
              "        vertical-align: top;\n",
              "    }\n",
              "\n",
              "    .dataframe thead th {\n",
              "        text-align: right;\n",
              "    }\n",
              "</style>\n",
              "<table border=\"1\" class=\"dataframe\">\n",
              "  <thead>\n",
              "    <tr style=\"text-align: right;\">\n",
              "      <th></th>\n",
              "      <th>bookID</th>\n",
              "      <th>title</th>\n",
              "      <th>authors</th>\n",
              "      <th>average_rating</th>\n",
              "      <th>isbn</th>\n",
              "      <th>isbn13</th>\n",
              "      <th>language_code</th>\n",
              "      <th>num_pages</th>\n",
              "      <th>ratings_count</th>\n",
              "      <th>text_reviews_count</th>\n",
              "      <th>publication_date</th>\n",
              "      <th>publisher</th>\n",
              "    </tr>\n",
              "  </thead>\n",
              "  <tbody>\n",
              "    <tr>\n",
              "      <th>0</th>\n",
              "      <td>1</td>\n",
              "      <td>Harry Potter and the Half-Blood Prince (Harry ...</td>\n",
              "      <td>J.K. Rowling/Mary GrandPré</td>\n",
              "      <td>4.57</td>\n",
              "      <td>0439785960</td>\n",
              "      <td>9780439785969</td>\n",
              "      <td>eng</td>\n",
              "      <td>652</td>\n",
              "      <td>2095690</td>\n",
              "      <td>27591</td>\n",
              "      <td>9/16/2006</td>\n",
              "      <td>Scholastic Inc.</td>\n",
              "    </tr>\n",
              "    <tr>\n",
              "      <th>1</th>\n",
              "      <td>2</td>\n",
              "      <td>Harry Potter and the Order of the Phoenix (Har...</td>\n",
              "      <td>J.K. Rowling/Mary GrandPré</td>\n",
              "      <td>4.49</td>\n",
              "      <td>0439358078</td>\n",
              "      <td>9780439358071</td>\n",
              "      <td>eng</td>\n",
              "      <td>870</td>\n",
              "      <td>2153167</td>\n",
              "      <td>29221</td>\n",
              "      <td>9/1/2004</td>\n",
              "      <td>Scholastic Inc.</td>\n",
              "    </tr>\n",
              "    <tr>\n",
              "      <th>2</th>\n",
              "      <td>4</td>\n",
              "      <td>Harry Potter and the Chamber of Secrets (Harry...</td>\n",
              "      <td>J.K. Rowling</td>\n",
              "      <td>4.42</td>\n",
              "      <td>0439554896</td>\n",
              "      <td>9780439554893</td>\n",
              "      <td>eng</td>\n",
              "      <td>352</td>\n",
              "      <td>6333</td>\n",
              "      <td>244</td>\n",
              "      <td>11/1/2003</td>\n",
              "      <td>Scholastic</td>\n",
              "    </tr>\n",
              "    <tr>\n",
              "      <th>3</th>\n",
              "      <td>5</td>\n",
              "      <td>Harry Potter and the Prisoner of Azkaban (Harr...</td>\n",
              "      <td>J.K. Rowling/Mary GrandPré</td>\n",
              "      <td>4.56</td>\n",
              "      <td>043965548X</td>\n",
              "      <td>9780439655484</td>\n",
              "      <td>eng</td>\n",
              "      <td>435</td>\n",
              "      <td>2339585</td>\n",
              "      <td>36325</td>\n",
              "      <td>5/1/2004</td>\n",
              "      <td>Scholastic Inc.</td>\n",
              "    </tr>\n",
              "    <tr>\n",
              "      <th>4</th>\n",
              "      <td>8</td>\n",
              "      <td>Harry Potter Boxed Set  Books 1-5 (Harry Potte...</td>\n",
              "      <td>J.K. Rowling/Mary GrandPré</td>\n",
              "      <td>4.78</td>\n",
              "      <td>0439682584</td>\n",
              "      <td>9780439682589</td>\n",
              "      <td>eng</td>\n",
              "      <td>2690</td>\n",
              "      <td>41428</td>\n",
              "      <td>164</td>\n",
              "      <td>9/13/2004</td>\n",
              "      <td>Scholastic</td>\n",
              "    </tr>\n",
              "  </tbody>\n",
              "</table>\n",
              "</div>"
            ],
            "text/plain": [
              "   bookID  ...        publisher\n",
              "0       1  ...  Scholastic Inc.\n",
              "1       2  ...  Scholastic Inc.\n",
              "2       4  ...       Scholastic\n",
              "3       5  ...  Scholastic Inc.\n",
              "4       8  ...       Scholastic\n",
              "\n",
              "[5 rows x 12 columns]"
            ]
          },
          "metadata": {},
          "execution_count": 26
        }
      ]
    },
    {
      "cell_type": "code",
      "metadata": {
        "colab": {
          "base_uri": "https://localhost:8080/"
        },
        "id": "ymdjkI9zbLS9",
        "outputId": "39b9f07e-c9d3-4996-b63d-13f706434f4d"
      },
      "source": [
        "corrmat = df.corr()   \n",
        "f, ax = plt.subplots(figsize =(9, 8)) \n",
        "sns.heatmap(corrmat, ax = ax, cmap =\"YlGnBu\", linewidths = 0.1) "
      ],
      "execution_count": null,
      "outputs": [
        {
          "output_type": "execute_result",
          "data": {
            "text/plain": [
              "<matplotlib.axes._subplots.AxesSubplot at 0x7f762a105390>"
            ]
          },
          "metadata": {},
          "execution_count": 27
        },
        {
          "output_type": "display_data",
          "data": {
            "image/png": "[encoded data removed]",
            "text/plain": [
              "<Figure size 648x576 with 2 Axes>"
            ]
          },
          "metadata": {}
        }
      ]
    },
    {
      "cell_type": "code",
      "metadata": {
        "id": "1_d6TM9ZbOzy"
      },
      "source": [
        "df2 =df.copy()"
      ],
      "execution_count": null,
      "outputs": []
    },
    {
      "cell_type": "code",
      "metadata": {
        "id": "YFDuSpulbUV9"
      },
      "source": [
        "df2.loc[ (df2['average_rating'] >= 0) & (df2['average_rating'] <= 1), 'rating_between'] = \"between 0 and 1\"\n",
        "df2.loc[ (df2['average_rating'] > 1) & (df2['average_rating'] <= 2), 'rating_between'] = \"between 1 and 2\"\n",
        "df2.loc[ (df2['average_rating'] > 2) & (df2['average_rating'] <= 3), 'rating_between'] = \"between 2 and 3\"\n",
        "df2.loc[ (df2['average_rating'] > 3) & (df2['average_rating'] <= 4), 'rating_between'] = \"between 3 and 4\"\n",
        "df2.loc[ (df2['average_rating'] > 4) & (df2['average_rating'] <= 5), 'rating_between'] = \"between 4 and 5\""
      ],
      "execution_count": null,
      "outputs": []
    },
    {
      "cell_type": "code",
      "metadata": {
        "colab": {
          "base_uri": "https://localhost:8080/"
        },
        "id": "yqo4CPY_bVqc",
        "outputId": "f789f155-105c-40da-ee23-c6d43eebd801"
      },
      "source": [
        "df2.head()"
      ],
      "execution_count": null,
      "outputs": [
        {
          "output_type": "execute_result",
          "data": {
            "text/html": [
              "<div>\n",
              "<style scoped>\n",
              "    .dataframe tbody tr th:only-of-type {\n",
              "        vertical-align: middle;\n",
              "    }\n",
              "\n",
              "    .dataframe tbody tr th {\n",
              "        vertical-align: top;\n",
              "    }\n",
              "\n",
              "    .dataframe thead th {\n",
              "        text-align: right;\n",
              "    }\n",
              "</style>\n",
              "<table border=\"1\" class=\"dataframe\">\n",
              "  <thead>\n",
              "    <tr style=\"text-align: right;\">\n",
              "      <th></th>\n",
              "      <th>bookID</th>\n",
              "      <th>title</th>\n",
              "      <th>authors</th>\n",
              "      <th>average_rating</th>\n",
              "      <th>isbn</th>\n",
              "      <th>isbn13</th>\n",
              "      <th>language_code</th>\n",
              "      <th>num_pages</th>\n",
              "      <th>ratings_count</th>\n",
              "      <th>text_reviews_count</th>\n",
              "      <th>publication_date</th>\n",
              "      <th>publisher</th>\n",
              "      <th>rating_between</th>\n",
              "    </tr>\n",
              "  </thead>\n",
              "  <tbody>\n",
              "    <tr>\n",
              "      <th>0</th>\n",
              "      <td>1</td>\n",
              "      <td>Harry Potter and the Half-Blood Prince (Harry ...</td>\n",
              "      <td>J.K. Rowling/Mary GrandPré</td>\n",
              "      <td>4.57</td>\n",
              "      <td>0439785960</td>\n",
              "      <td>9780439785969</td>\n",
              "      <td>eng</td>\n",
              "      <td>652</td>\n",
              "      <td>2095690</td>\n",
              "      <td>27591</td>\n",
              "      <td>9/16/2006</td>\n",
              "      <td>Scholastic Inc.</td>\n",
              "      <td>between 4 and 5</td>\n",
              "    </tr>\n",
              "    <tr>\n",
              "      <th>1</th>\n",
              "      <td>2</td>\n",
              "      <td>Harry Potter and the Order of the Phoenix (Har...</td>\n",
              "      <td>J.K. Rowling/Mary GrandPré</td>\n",
              "      <td>4.49</td>\n",
              "      <td>0439358078</td>\n",
              "      <td>9780439358071</td>\n",
              "      <td>eng</td>\n",
              "      <td>870</td>\n",
              "      <td>2153167</td>\n",
              "      <td>29221</td>\n",
              "      <td>9/1/2004</td>\n",
              "      <td>Scholastic Inc.</td>\n",
              "      <td>between 4 and 5</td>\n",
              "    </tr>\n",
              "    <tr>\n",
              "      <th>2</th>\n",
              "      <td>4</td>\n",
              "      <td>Harry Potter and the Chamber of Secrets (Harry...</td>\n",
              "      <td>J.K. Rowling</td>\n",
              "      <td>4.42</td>\n",
              "      <td>0439554896</td>\n",
              "      <td>9780439554893</td>\n",
              "      <td>eng</td>\n",
              "      <td>352</td>\n",
              "      <td>6333</td>\n",
              "      <td>244</td>\n",
              "      <td>11/1/2003</td>\n",
              "      <td>Scholastic</td>\n",
              "      <td>between 4 and 5</td>\n",
              "    </tr>\n",
              "    <tr>\n",
              "      <th>3</th>\n",
              "      <td>5</td>\n",
              "      <td>Harry Potter and the Prisoner of Azkaban (Harr...</td>\n",
              "      <td>J.K. Rowling/Mary GrandPré</td>\n",
              "      <td>4.56</td>\n",
              "      <td>043965548X</td>\n",
              "      <td>9780439655484</td>\n",
              "      <td>eng</td>\n",
              "      <td>435</td>\n",
              "      <td>2339585</td>\n",
              "      <td>36325</td>\n",
              "      <td>5/1/2004</td>\n",
              "      <td>Scholastic Inc.</td>\n",
              "      <td>between 4 and 5</td>\n",
              "    </tr>\n",
              "    <tr>\n",
              "      <th>4</th>\n",
              "      <td>8</td>\n",
              "      <td>Harry Potter Boxed Set  Books 1-5 (Harry Potte...</td>\n",
              "      <td>J.K. Rowling/Mary GrandPré</td>\n",
              "      <td>4.78</td>\n",
              "      <td>0439682584</td>\n",
              "      <td>9780439682589</td>\n",
              "      <td>eng</td>\n",
              "      <td>2690</td>\n",
              "      <td>41428</td>\n",
              "      <td>164</td>\n",
              "      <td>9/13/2004</td>\n",
              "      <td>Scholastic</td>\n",
              "      <td>between 4 and 5</td>\n",
              "    </tr>\n",
              "  </tbody>\n",
              "</table>\n",
              "</div>"
            ],
            "text/plain": [
              "   bookID  ...   rating_between\n",
              "0       1  ...  between 4 and 5\n",
              "1       2  ...  between 4 and 5\n",
              "2       4  ...  between 4 and 5\n",
              "3       5  ...  between 4 and 5\n",
              "4       8  ...  between 4 and 5\n",
              "\n",
              "[5 rows x 13 columns]"
            ]
          },
          "metadata": {},
          "execution_count": 30
        }
      ]
    },
    {
      "cell_type": "code",
      "metadata": {
        "colab": {
          "base_uri": "https://localhost:8080/"
        },
        "id": "GD3Idhu1bXUB",
        "outputId": "ea10b8cb-527e-4bac-eda4-23bd64651fc0"
      },
      "source": [
        "rating_df = pd.get_dummies(df2['rating_between'])\n",
        "rating_df.head()"
      ],
      "execution_count": null,
      "outputs": [
        {
          "output_type": "execute_result",
          "data": {
            "text/html": [
              "<div>\n",
              "<style scoped>\n",
              "    .dataframe tbody tr th:only-of-type {\n",
              "        vertical-align: middle;\n",
              "    }\n",
              "\n",
              "    .dataframe tbody tr th {\n",
              "        vertical-align: top;\n",
              "    }\n",
              "\n",
              "    .dataframe thead th {\n",
              "        text-align: right;\n",
              "    }\n",
              "</style>\n",
              "<table border=\"1\" class=\"dataframe\">\n",
              "  <thead>\n",
              "    <tr style=\"text-align: right;\">\n",
              "      <th></th>\n",
              "      <th>between 0 and 1</th>\n",
              "      <th>between 1 and 2</th>\n",
              "      <th>between 2 and 3</th>\n",
              "      <th>between 3 and 4</th>\n",
              "      <th>between 4 and 5</th>\n",
              "    </tr>\n",
              "  </thead>\n",
              "  <tbody>\n",
              "    <tr>\n",
              "      <th>0</th>\n",
              "      <td>0</td>\n",
              "      <td>0</td>\n",
              "      <td>0</td>\n",
              "      <td>0</td>\n",
              "      <td>1</td>\n",
              "    </tr>\n",
              "    <tr>\n",
              "      <th>1</th>\n",
              "      <td>0</td>\n",
              "      <td>0</td>\n",
              "      <td>0</td>\n",
              "      <td>0</td>\n",
              "      <td>1</td>\n",
              "    </tr>\n",
              "    <tr>\n",
              "      <th>2</th>\n",
              "      <td>0</td>\n",
              "      <td>0</td>\n",
              "      <td>0</td>\n",
              "      <td>0</td>\n",
              "      <td>1</td>\n",
              "    </tr>\n",
              "    <tr>\n",
              "      <th>3</th>\n",
              "      <td>0</td>\n",
              "      <td>0</td>\n",
              "      <td>0</td>\n",
              "      <td>0</td>\n",
              "      <td>1</td>\n",
              "    </tr>\n",
              "    <tr>\n",
              "      <th>4</th>\n",
              "      <td>0</td>\n",
              "      <td>0</td>\n",
              "      <td>0</td>\n",
              "      <td>0</td>\n",
              "      <td>1</td>\n",
              "    </tr>\n",
              "  </tbody>\n",
              "</table>\n",
              "</div>"
            ],
            "text/plain": [
              "   between 0 and 1  between 1 and 2  ...  between 3 and 4  between 4 and 5\n",
              "0                0                0  ...                0                1\n",
              "1                0                0  ...                0                1\n",
              "2                0                0  ...                0                1\n",
              "3                0                0  ...                0                1\n",
              "4                0                0  ...                0                1\n",
              "\n",
              "[5 rows x 5 columns]"
            ]
          },
          "metadata": {},
          "execution_count": 31
        }
      ]
    },
    {
      "cell_type": "code",
      "metadata": {
        "colab": {
          "base_uri": "https://localhost:8080/"
        },
        "id": "-VR1ZzExbY1B",
        "outputId": "fc558622-ee15-469d-cd7d-f162c92cc107"
      },
      "source": [
        "l_code_df = pd.get_dummies(df2['language_code'])\n",
        "l_code_df.head()"
      ],
      "execution_count": null,
      "outputs": [
        {
          "output_type": "execute_result",
          "data": {
            "text/html": [
              "<div>\n",
              "<style scoped>\n",
              "    .dataframe tbody tr th:only-of-type {\n",
              "        vertical-align: middle;\n",
              "    }\n",
              "\n",
              "    .dataframe tbody tr th {\n",
              "        vertical-align: top;\n",
              "    }\n",
              "\n",
              "    .dataframe thead th {\n",
              "        text-align: right;\n",
              "    }\n",
              "</style>\n",
              "<table border=\"1\" class=\"dataframe\">\n",
              "  <thead>\n",
              "    <tr style=\"text-align: right;\">\n",
              "      <th></th>\n",
              "      <th>ale</th>\n",
              "      <th>ara</th>\n",
              "      <th>en-CA</th>\n",
              "      <th>en-GB</th>\n",
              "      <th>en-US</th>\n",
              "      <th>eng</th>\n",
              "      <th>enm</th>\n",
              "      <th>fre</th>\n",
              "      <th>ger</th>\n",
              "      <th>gla</th>\n",
              "      <th>glg</th>\n",
              "      <th>grc</th>\n",
              "      <th>ita</th>\n",
              "      <th>jpn</th>\n",
              "      <th>lat</th>\n",
              "      <th>msa</th>\n",
              "      <th>mul</th>\n",
              "      <th>nl</th>\n",
              "      <th>nor</th>\n",
              "      <th>por</th>\n",
              "      <th>rus</th>\n",
              "      <th>spa</th>\n",
              "      <th>srp</th>\n",
              "      <th>swe</th>\n",
              "      <th>tur</th>\n",
              "      <th>wel</th>\n",
              "      <th>zho</th>\n",
              "    </tr>\n",
              "  </thead>\n",
              "  <tbody>\n",
              "    <tr>\n",
              "      <th>0</th>\n",
              "      <td>0</td>\n",
              "      <td>0</td>\n",
              "      <td>0</td>\n",
              "      <td>0</td>\n",
              "      <td>0</td>\n",
              "      <td>1</td>\n",
              "      <td>0</td>\n",
              "      <td>0</td>\n",
              "      <td>0</td>\n",
              "      <td>0</td>\n",
              "      <td>0</td>\n",
              "      <td>0</td>\n",
              "      <td>0</td>\n",
              "      <td>0</td>\n",
              "      <td>0</td>\n",
              "      <td>0</td>\n",
              "      <td>0</td>\n",
              "      <td>0</td>\n",
              "      <td>0</td>\n",
              "      <td>0</td>\n",
              "      <td>0</td>\n",
              "      <td>0</td>\n",
              "      <td>0</td>\n",
              "      <td>0</td>\n",
              "      <td>0</td>\n",
              "      <td>0</td>\n",
              "      <td>0</td>\n",
              "    </tr>\n",
              "    <tr>\n",
              "      <th>1</th>\n",
              "      <td>0</td>\n",
              "      <td>0</td>\n",
              "      <td>0</td>\n",
              "      <td>0</td>\n",
              "      <td>0</td>\n",
              "      <td>1</td>\n",
              "      <td>0</td>\n",
              "      <td>0</td>\n",
              "      <td>0</td>\n",
              "      <td>0</td>\n",
              "      <td>0</td>\n",
              "      <td>0</td>\n",
              "      <td>0</td>\n",
              "      <td>0</td>\n",
              "      <td>0</td>\n",
              "      <td>0</td>\n",
              "      <td>0</td>\n",
              "      <td>0</td>\n",
              "      <td>0</td>\n",
              "      <td>0</td>\n",
              "      <td>0</td>\n",
              "      <td>0</td>\n",
              "      <td>0</td>\n",
              "      <td>0</td>\n",
              "      <td>0</td>\n",
              "      <td>0</td>\n",
              "      <td>0</td>\n",
              "    </tr>\n",
              "    <tr>\n",
              "      <th>2</th>\n",
              "      <td>0</td>\n",
              "      <td>0</td>\n",
              "      <td>0</td>\n",
              "      <td>0</td>\n",
              "      <td>0</td>\n",
              "      <td>1</td>\n",
              "      <td>0</td>\n",
              "      <td>0</td>\n",
              "      <td>0</td>\n",
              "      <td>0</td>\n",
              "      <td>0</td>\n",
              "      <td>0</td>\n",
              "      <td>0</td>\n",
              "      <td>0</td>\n",
              "      <td>0</td>\n",
              "      <td>0</td>\n",
              "      <td>0</td>\n",
              "      <td>0</td>\n",
              "      <td>0</td>\n",
              "      <td>0</td>\n",
              "      <td>0</td>\n",
              "      <td>0</td>\n",
              "      <td>0</td>\n",
              "      <td>0</td>\n",
              "      <td>0</td>\n",
              "      <td>0</td>\n",
              "      <td>0</td>\n",
              "    </tr>\n",
              "    <tr>\n",
              "      <th>3</th>\n",
              "      <td>0</td>\n",
              "      <td>0</td>\n",
              "      <td>0</td>\n",
              "      <td>0</td>\n",
              "      <td>0</td>\n",
              "      <td>1</td>\n",
              "      <td>0</td>\n",
              "      <td>0</td>\n",
              "      <td>0</td>\n",
              "      <td>0</td>\n",
              "      <td>0</td>\n",
              "      <td>0</td>\n",
              "      <td>0</td>\n",
              "      <td>0</td>\n",
              "      <td>0</td>\n",
              "      <td>0</td>\n",
              "      <td>0</td>\n",
              "      <td>0</td>\n",
              "      <td>0</td>\n",
              "      <td>0</td>\n",
              "      <td>0</td>\n",
              "      <td>0</td>\n",
              "      <td>0</td>\n",
              "      <td>0</td>\n",
              "      <td>0</td>\n",
              "      <td>0</td>\n",
              "      <td>0</td>\n",
              "    </tr>\n",
              "    <tr>\n",
              "      <th>4</th>\n",
              "      <td>0</td>\n",
              "      <td>0</td>\n",
              "      <td>0</td>\n",
              "      <td>0</td>\n",
              "      <td>0</td>\n",
              "      <td>1</td>\n",
              "      <td>0</td>\n",
              "      <td>0</td>\n",
              "      <td>0</td>\n",
              "      <td>0</td>\n",
              "      <td>0</td>\n",
              "      <td>0</td>\n",
              "      <td>0</td>\n",
              "      <td>0</td>\n",
              "      <td>0</td>\n",
              "      <td>0</td>\n",
              "      <td>0</td>\n",
              "      <td>0</td>\n",
              "      <td>0</td>\n",
              "      <td>0</td>\n",
              "      <td>0</td>\n",
              "      <td>0</td>\n",
              "      <td>0</td>\n",
              "      <td>0</td>\n",
              "      <td>0</td>\n",
              "      <td>0</td>\n",
              "      <td>0</td>\n",
              "    </tr>\n",
              "  </tbody>\n",
              "</table>\n",
              "</div>"
            ],
            "text/plain": [
              "   ale  ara  en-CA  en-GB  en-US  eng  enm  ...  rus  spa  srp  swe  tur  wel  zho\n",
              "0    0    0      0      0      0    1    0  ...    0    0    0    0    0    0    0\n",
              "1    0    0      0      0      0    1    0  ...    0    0    0    0    0    0    0\n",
              "2    0    0      0      0      0    1    0  ...    0    0    0    0    0    0    0\n",
              "3    0    0      0      0      0    1    0  ...    0    0    0    0    0    0    0\n",
              "4    0    0      0      0      0    1    0  ...    0    0    0    0    0    0    0\n",
              "\n",
              "[5 rows x 27 columns]"
            ]
          },
          "metadata": {},
          "execution_count": 32
        }
      ]
    },
    {
      "cell_type": "code",
      "metadata": {
        "colab": {
          "base_uri": "https://localhost:8080/"
        },
        "id": "y-kXCvXKbaNh",
        "outputId": "f23711dc-7ffc-4a94-b89c-a464a2720e8b"
      },
      "source": [
        "features = pd.concat([l_code_df, rating_df, df2['average_rating'], df2['ratings_count']], axis=1)\n",
        "features.head()"
      ],
      "execution_count": null,
      "outputs": [
        {
          "output_type": "execute_result",
          "data": {
            "text/html": [
              "<div>\n",
              "<style scoped>\n",
              "    .dataframe tbody tr th:only-of-type {\n",
              "        vertical-align: middle;\n",
              "    }\n",
              "\n",
              "    .dataframe tbody tr th {\n",
              "        vertical-align: top;\n",
              "    }\n",
              "\n",
              "    .dataframe thead th {\n",
              "        text-align: right;\n",
              "    }\n",
              "</style>\n",
              "<table border=\"1\" class=\"dataframe\">\n",
              "  <thead>\n",
              "    <tr style=\"text-align: right;\">\n",
              "      <th></th>\n",
              "      <th>ale</th>\n",
              "      <th>ara</th>\n",
              "      <th>en-CA</th>\n",
              "      <th>en-GB</th>\n",
              "      <th>en-US</th>\n",
              "      <th>eng</th>\n",
              "      <th>enm</th>\n",
              "      <th>fre</th>\n",
              "      <th>ger</th>\n",
              "      <th>gla</th>\n",
              "      <th>glg</th>\n",
              "      <th>grc</th>\n",
              "      <th>ita</th>\n",
              "      <th>jpn</th>\n",
              "      <th>lat</th>\n",
              "      <th>msa</th>\n",
              "      <th>mul</th>\n",
              "      <th>nl</th>\n",
              "      <th>nor</th>\n",
              "      <th>por</th>\n",
              "      <th>rus</th>\n",
              "      <th>spa</th>\n",
              "      <th>srp</th>\n",
              "      <th>swe</th>\n",
              "      <th>tur</th>\n",
              "      <th>wel</th>\n",
              "      <th>zho</th>\n",
              "      <th>between 0 and 1</th>\n",
              "      <th>between 1 and 2</th>\n",
              "      <th>between 2 and 3</th>\n",
              "      <th>between 3 and 4</th>\n",
              "      <th>between 4 and 5</th>\n",
              "      <th>average_rating</th>\n",
              "      <th>ratings_count</th>\n",
              "    </tr>\n",
              "  </thead>\n",
              "  <tbody>\n",
              "    <tr>\n",
              "      <th>0</th>\n",
              "      <td>0</td>\n",
              "      <td>0</td>\n",
              "      <td>0</td>\n",
              "      <td>0</td>\n",
              "      <td>0</td>\n",
              "      <td>1</td>\n",
              "      <td>0</td>\n",
              "      <td>0</td>\n",
              "      <td>0</td>\n",
              "      <td>0</td>\n",
              "      <td>0</td>\n",
              "      <td>0</td>\n",
              "      <td>0</td>\n",
              "      <td>0</td>\n",
              "      <td>0</td>\n",
              "      <td>0</td>\n",
              "      <td>0</td>\n",
              "      <td>0</td>\n",
              "      <td>0</td>\n",
              "      <td>0</td>\n",
              "      <td>0</td>\n",
              "      <td>0</td>\n",
              "      <td>0</td>\n",
              "      <td>0</td>\n",
              "      <td>0</td>\n",
              "      <td>0</td>\n",
              "      <td>0</td>\n",
              "      <td>0</td>\n",
              "      <td>0</td>\n",
              "      <td>0</td>\n",
              "      <td>0</td>\n",
              "      <td>1</td>\n",
              "      <td>4.57</td>\n",
              "      <td>2095690</td>\n",
              "    </tr>\n",
              "    <tr>\n",
              "      <th>1</th>\n",
              "      <td>0</td>\n",
              "      <td>0</td>\n",
              "      <td>0</td>\n",
              "      <td>0</td>\n",
              "      <td>0</td>\n",
              "      <td>1</td>\n",
              "      <td>0</td>\n",
              "      <td>0</td>\n",
              "      <td>0</td>\n",
              "      <td>0</td>\n",
              "      <td>0</td>\n",
              "      <td>0</td>\n",
              "      <td>0</td>\n",
              "      <td>0</td>\n",
              "      <td>0</td>\n",
              "      <td>0</td>\n",
              "      <td>0</td>\n",
              "      <td>0</td>\n",
              "      <td>0</td>\n",
              "      <td>0</td>\n",
              "      <td>0</td>\n",
              "      <td>0</td>\n",
              "      <td>0</td>\n",
              "      <td>0</td>\n",
              "      <td>0</td>\n",
              "      <td>0</td>\n",
              "      <td>0</td>\n",
              "      <td>0</td>\n",
              "      <td>0</td>\n",
              "      <td>0</td>\n",
              "      <td>0</td>\n",
              "      <td>1</td>\n",
              "      <td>4.49</td>\n",
              "      <td>2153167</td>\n",
              "    </tr>\n",
              "    <tr>\n",
              "      <th>2</th>\n",
              "      <td>0</td>\n",
              "      <td>0</td>\n",
              "      <td>0</td>\n",
              "      <td>0</td>\n",
              "      <td>0</td>\n",
              "      <td>1</td>\n",
              "      <td>0</td>\n",
              "      <td>0</td>\n",
              "      <td>0</td>\n",
              "      <td>0</td>\n",
              "      <td>0</td>\n",
              "      <td>0</td>\n",
              "      <td>0</td>\n",
              "      <td>0</td>\n",
              "      <td>0</td>\n",
              "      <td>0</td>\n",
              "      <td>0</td>\n",
              "      <td>0</td>\n",
              "      <td>0</td>\n",
              "      <td>0</td>\n",
              "      <td>0</td>\n",
              "      <td>0</td>\n",
              "      <td>0</td>\n",
              "      <td>0</td>\n",
              "      <td>0</td>\n",
              "      <td>0</td>\n",
              "      <td>0</td>\n",
              "      <td>0</td>\n",
              "      <td>0</td>\n",
              "      <td>0</td>\n",
              "      <td>0</td>\n",
              "      <td>1</td>\n",
              "      <td>4.42</td>\n",
              "      <td>6333</td>\n",
              "    </tr>\n",
              "    <tr>\n",
              "      <th>3</th>\n",
              "      <td>0</td>\n",
              "      <td>0</td>\n",
              "      <td>0</td>\n",
              "      <td>0</td>\n",
              "      <td>0</td>\n",
              "      <td>1</td>\n",
              "      <td>0</td>\n",
              "      <td>0</td>\n",
              "      <td>0</td>\n",
              "      <td>0</td>\n",
              "      <td>0</td>\n",
              "      <td>0</td>\n",
              "      <td>0</td>\n",
              "      <td>0</td>\n",
              "      <td>0</td>\n",
              "      <td>0</td>\n",
              "      <td>0</td>\n",
              "      <td>0</td>\n",
              "      <td>0</td>\n",
              "      <td>0</td>\n",
              "      <td>0</td>\n",
              "      <td>0</td>\n",
              "      <td>0</td>\n",
              "      <td>0</td>\n",
              "      <td>0</td>\n",
              "      <td>0</td>\n",
              "      <td>0</td>\n",
              "      <td>0</td>\n",
              "      <td>0</td>\n",
              "      <td>0</td>\n",
              "      <td>0</td>\n",
              "      <td>1</td>\n",
              "      <td>4.56</td>\n",
              "      <td>2339585</td>\n",
              "    </tr>\n",
              "    <tr>\n",
              "      <th>4</th>\n",
              "      <td>0</td>\n",
              "      <td>0</td>\n",
              "      <td>0</td>\n",
              "      <td>0</td>\n",
              "      <td>0</td>\n",
              "      <td>1</td>\n",
              "      <td>0</td>\n",
              "      <td>0</td>\n",
              "      <td>0</td>\n",
              "      <td>0</td>\n",
              "      <td>0</td>\n",
              "      <td>0</td>\n",
              "      <td>0</td>\n",
              "      <td>0</td>\n",
              "      <td>0</td>\n",
              "      <td>0</td>\n",
              "      <td>0</td>\n",
              "      <td>0</td>\n",
              "      <td>0</td>\n",
              "      <td>0</td>\n",
              "      <td>0</td>\n",
              "      <td>0</td>\n",
              "      <td>0</td>\n",
              "      <td>0</td>\n",
              "      <td>0</td>\n",
              "      <td>0</td>\n",
              "      <td>0</td>\n",
              "      <td>0</td>\n",
              "      <td>0</td>\n",
              "      <td>0</td>\n",
              "      <td>0</td>\n",
              "      <td>1</td>\n",
              "      <td>4.78</td>\n",
              "      <td>41428</td>\n",
              "    </tr>\n",
              "  </tbody>\n",
              "</table>\n",
              "</div>"
            ],
            "text/plain": [
              "   ale  ara  en-CA  ...  between 4 and 5  average_rating  ratings_count\n",
              "0    0    0      0  ...                1            4.57        2095690\n",
              "1    0    0      0  ...                1            4.49        2153167\n",
              "2    0    0      0  ...                1            4.42           6333\n",
              "3    0    0      0  ...                1            4.56        2339585\n",
              "4    0    0      0  ...                1            4.78          41428\n",
              "\n",
              "[5 rows x 34 columns]"
            ]
          },
          "metadata": {},
          "execution_count": 33
        }
      ]
    },
    {
      "cell_type": "markdown",
      "metadata": {
        "id": "poZJJwUvbe4U"
      },
      "source": [
        "# Model Building"
      ]
    },
    {
      "cell_type": "code",
      "metadata": {
        "id": "TKpc_Mx6bf46"
      },
      "source": [
        "from sklearn import neighbors\n",
        "from sklearn.model_selection import train_test_split\n",
        "from sklearn.preprocessing import MinMaxScaler"
      ],
      "execution_count": null,
      "outputs": []
    },
    {
      "cell_type": "code",
      "metadata": {
        "id": "Wp55Bhm1bhv2"
      },
      "source": [
        "min_max_scaler = MinMaxScaler()\n",
        "features = min_max_scaler.fit_transform(features)"
      ],
      "execution_count": null,
      "outputs": []
    },
    {
      "cell_type": "code",
      "metadata": {
        "id": "bddHweyfbi-g"
      },
      "source": [
        "model = neighbors.NearestNeighbors(n_neighbors=5, algorithm='ball_tree')\n",
        "model.fit(features)\n",
        "dist, idlist = model.kneighbors(features)"
      ],
      "execution_count": null,
      "outputs": []
    },
    {
      "cell_type": "code",
      "metadata": {
        "colab": {
          "base_uri": "https://localhost:8080/"
        },
        "id": "WR7AsAwNdaa2",
        "outputId": "ea4e6f1e-07d5-455b-c7ec-792870ab47c3"
      },
      "source": [
        "idlist"
      ],
      "execution_count": null,
      "outputs": [
        {
          "output_type": "execute_result",
          "data": {
            "text/plain": [
              "array([[    0,     1,    23,  4415,     3],\n",
              "       [    1,     0,    23,  4415,     3],\n",
              "       [    2,  2562,  3101,  3659,  5486],\n",
              "       ...,\n",
              "       [11120,  5459,  8599,  4325,  5265],\n",
              "       [11121,  1463,  8854,  7565,  7079],\n",
              "       [11122,  6343, 10297,  2646, 11031]])"
            ]
          },
          "metadata": {},
          "execution_count": 37
        }
      ]
    },
    {
      "cell_type": "code",
      "metadata": {
        "id": "AKWlWkHEbkeP"
      },
      "source": [
        "def book_recommendation_engine(book_name):\n",
        "    book_list_name = []\n",
        "    book_id = df2[df2['publisher'].astype(str).str.contains(book_name)].index\n",
        "    print(book_id)\n",
        "    book_id = book_id[0]\n",
        "    for newid in idlist[book_id]:\n",
        "        book_list_name.append(df2.loc[newid].title)\n",
        "    return book_list_name"
      ],
      "execution_count": null,
      "outputs": []
    },
    {
      "cell_type": "code",
      "metadata": {
        "colab": {
          "base_uri": "https://localhost:8080/"
        },
        "id": "qeRYH6bsbmsY",
        "outputId": "e4c760ac-9137-4180-bdb2-829db1523688"
      },
      "source": [
        "book_list_name = book_recommendation_engine('Scholastic')\n",
        "book_list_name"
      ],
      "execution_count": null,
      "outputs": [
        {
          "output_type": "stream",
          "name": "stdout",
          "text": [
            "Int64Index([    0,     1,     2,     3,     4,     6,   571,   590,   593,\n",
            "              760,\n",
            "            ...\n",
            "             9745,  9746,  9800,  9896, 10396, 10491, 10553, 11035, 11066,\n",
            "            11084],\n",
            "           dtype='int64', length=130)\n"
          ]
        },
        {
          "output_type": "execute_result",
          "data": {
            "text/plain": [
              "['Harry Potter and the Half-Blood Prince (Harry Potter  #6)',\n",
              " 'Harry Potter and the Order of the Phoenix (Harry Potter  #5)',\n",
              " 'The Fellowship of the Ring (The Lord of the Rings  #1)',\n",
              " 'Harry Potter and the Chamber of Secrets (Harry Potter  #2)',\n",
              " 'Harry Potter and the Prisoner of Azkaban (Harry Potter  #3)']"
            ]
          },
          "metadata": {},
          "execution_count": 51
        }
      ]
    },
    {
      "cell_type": "code",
      "metadata": {
        "id": "AFZ8sT7wa6Zs"
      },
      "source": [
        "import pickle"
      ],
      "execution_count": null,
      "outputs": []
    },
    {
      "cell_type": "code",
      "metadata": {
        "colab": {
          "base_uri": "https://localhost:8080/",
          "height": 509
        },
        "id": "aGziXs1De7jW",
        "outputId": "9efdf681-b859-4a6e-9d22-3ff7579d62d2"
      },
      "source": [
        "df2.tail()"
      ],
      "execution_count": null,
      "outputs": [
        {
          "output_type": "execute_result",
          "data": {
            "text/html": [
              "<div>\n",
              "<style scoped>\n",
              "    .dataframe tbody tr th:only-of-type {\n",
              "        vertical-align: middle;\n",
              "    }\n",
              "\n",
              "    .dataframe tbody tr th {\n",
              "        vertical-align: top;\n",
              "    }\n",
              "\n",
              "    .dataframe thead th {\n",
              "        text-align: right;\n",
              "    }\n",
              "</style>\n",
              "<table border=\"1\" class=\"dataframe\">\n",
              "  <thead>\n",
              "    <tr style=\"text-align: right;\">\n",
              "      <th></th>\n",
              "      <th>bookID</th>\n",
              "      <th>title</th>\n",
              "      <th>authors</th>\n",
              "      <th>average_rating</th>\n",
              "      <th>isbn</th>\n",
              "      <th>isbn13</th>\n",
              "      <th>language_code</th>\n",
              "      <th>num_pages</th>\n",
              "      <th>ratings_count</th>\n",
              "      <th>text_reviews_count</th>\n",
              "      <th>publication_date</th>\n",
              "      <th>publisher</th>\n",
              "      <th>rating_between</th>\n",
              "    </tr>\n",
              "  </thead>\n",
              "  <tbody>\n",
              "    <tr>\n",
              "      <th>11118</th>\n",
              "      <td>45631</td>\n",
              "      <td>Expelled from Eden: A William T. Vollmann Reader</td>\n",
              "      <td>William T. Vollmann/Larry McCaffery/Michael He...</td>\n",
              "      <td>4.06</td>\n",
              "      <td>1560254416</td>\n",
              "      <td>9781560254416</td>\n",
              "      <td>eng</td>\n",
              "      <td>512</td>\n",
              "      <td>156</td>\n",
              "      <td>20</td>\n",
              "      <td>12/21/2004</td>\n",
              "      <td>Da Capo Press</td>\n",
              "      <td>between 4 and 5</td>\n",
              "    </tr>\n",
              "    <tr>\n",
              "      <th>11119</th>\n",
              "      <td>45633</td>\n",
              "      <td>You Bright and Risen Angels</td>\n",
              "      <td>William T. Vollmann</td>\n",
              "      <td>4.08</td>\n",
              "      <td>0140110879</td>\n",
              "      <td>9780140110876</td>\n",
              "      <td>eng</td>\n",
              "      <td>635</td>\n",
              "      <td>783</td>\n",
              "      <td>56</td>\n",
              "      <td>12/1/1988</td>\n",
              "      <td>Penguin Books</td>\n",
              "      <td>between 4 and 5</td>\n",
              "    </tr>\n",
              "    <tr>\n",
              "      <th>11120</th>\n",
              "      <td>45634</td>\n",
              "      <td>The Ice-Shirt (Seven Dreams #1)</td>\n",
              "      <td>William T. Vollmann</td>\n",
              "      <td>3.96</td>\n",
              "      <td>0140131965</td>\n",
              "      <td>9780140131963</td>\n",
              "      <td>eng</td>\n",
              "      <td>415</td>\n",
              "      <td>820</td>\n",
              "      <td>95</td>\n",
              "      <td>8/1/1993</td>\n",
              "      <td>Penguin Books</td>\n",
              "      <td>between 3 and 4</td>\n",
              "    </tr>\n",
              "    <tr>\n",
              "      <th>11121</th>\n",
              "      <td>45639</td>\n",
              "      <td>Poor People</td>\n",
              "      <td>William T. Vollmann</td>\n",
              "      <td>3.72</td>\n",
              "      <td>0060878827</td>\n",
              "      <td>9780060878825</td>\n",
              "      <td>eng</td>\n",
              "      <td>434</td>\n",
              "      <td>769</td>\n",
              "      <td>139</td>\n",
              "      <td>2/27/2007</td>\n",
              "      <td>Ecco</td>\n",
              "      <td>between 3 and 4</td>\n",
              "    </tr>\n",
              "    <tr>\n",
              "      <th>11122</th>\n",
              "      <td>45641</td>\n",
              "      <td>Las aventuras de Tom Sawyer</td>\n",
              "      <td>Mark Twain</td>\n",
              "      <td>3.91</td>\n",
              "      <td>8497646983</td>\n",
              "      <td>9788497646987</td>\n",
              "      <td>spa</td>\n",
              "      <td>272</td>\n",
              "      <td>113</td>\n",
              "      <td>12</td>\n",
              "      <td>5/28/2006</td>\n",
              "      <td>Edimat Libros</td>\n",
              "      <td>between 3 and 4</td>\n",
              "    </tr>\n",
              "  </tbody>\n",
              "</table>\n",
              "</div>"
            ],
            "text/plain": [
              "       bookID  ...   rating_between\n",
              "11118   45631  ...  between 4 and 5\n",
              "11119   45633  ...  between 4 and 5\n",
              "11120   45634  ...  between 3 and 4\n",
              "11121   45639  ...  between 3 and 4\n",
              "11122   45641  ...  between 3 and 4\n",
              "\n",
              "[5 rows x 13 columns]"
            ]
          },
          "metadata": {},
          "execution_count": 41
        }
      ]
    },
    {
      "cell_type": "code",
      "metadata": {
        "id": "xNvJZzPKoqP8",
        "colab": {
          "base_uri": "https://localhost:8080/",
          "height": 49
        },
        "outputId": "77db49a6-01fb-4363-96ae-98c96e6a7873"
      },
      "source": [
        "df2[df2.isbn == '0609804618']"
      ],
      "execution_count": null,
      "outputs": [
        {
          "output_type": "execute_result",
          "data": {
            "text/html": [
              "<div>\n",
              "<style scoped>\n",
              "    .dataframe tbody tr th:only-of-type {\n",
              "        vertical-align: middle;\n",
              "    }\n",
              "\n",
              "    .dataframe tbody tr th {\n",
              "        vertical-align: top;\n",
              "    }\n",
              "\n",
              "    .dataframe thead th {\n",
              "        text-align: right;\n",
              "    }\n",
              "</style>\n",
              "<table border=\"1\" class=\"dataframe\">\n",
              "  <thead>\n",
              "    <tr style=\"text-align: right;\">\n",
              "      <th></th>\n",
              "      <th>bookID</th>\n",
              "      <th>title</th>\n",
              "      <th>authors</th>\n",
              "      <th>average_rating</th>\n",
              "      <th>isbn</th>\n",
              "      <th>isbn13</th>\n",
              "      <th>language_code</th>\n",
              "      <th>num_pages</th>\n",
              "      <th>ratings_count</th>\n",
              "      <th>text_reviews_count</th>\n",
              "      <th>publication_date</th>\n",
              "      <th>publisher</th>\n",
              "      <th>rating_between</th>\n",
              "    </tr>\n",
              "  </thead>\n",
              "  <tbody>\n",
              "  </tbody>\n",
              "</table>\n",
              "</div>"
            ],
            "text/plain": [
              "Empty DataFrame\n",
              "Columns: [bookID, title, authors, average_rating, isbn, isbn13, language_code,   num_pages, ratings_count, text_reviews_count, publication_date, publisher, rating_between]\n",
              "Index: []"
            ]
          },
          "metadata": {},
          "execution_count": 42
        }
      ]
    },
    {
      "cell_type": "code",
      "metadata": {
        "id": "2Sd5rlbpa6N4"
      },
      "source": [
        ""
      ],
      "execution_count": null,
      "outputs": []
    }
  ]
}